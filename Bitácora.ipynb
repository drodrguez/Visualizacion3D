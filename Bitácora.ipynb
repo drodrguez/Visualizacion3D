{
 "cells": [
  {
   "cell_type": "markdown",
   "id": "8a5e6987-d294-46e4-a33a-c3b82d8d48b0",
   "metadata": {},
   "source": [
    "# Proyecto: Visualización 3D de modelo de exposición\n",
    "\n",
    "## Descripción del proyecto\n",
    "\n",
    "Este proyecto tiene como objetivo investigar e implementar metodologías novedosas de visualización de datos de exposición a distintas escalas espaciales, que permitan representar y comunicar de manera atractiva la información contenida en ellos, como ubicación, altura, densidad, materialidad, tipo de uso, edad, tipología estructural, etc.\n",
    "\n",
    "## Datos disponibles\n",
    "\n",
    "- Modelo de exposición: Los datos principales de este proyecto corresponde al modelo de exposición producto de la publicación \"Development of national and local exposure models of residential structures in Chile\". Este modelo se constituye de 1 archivo .txt para cada región, que incluye un catastro a nivel de bloque censal para 18 tipologías distintas de estructuras. \n",
    "\n",
    "- Datos de salud pública: Se obtienen directamente desde el MINSAL. Estos datos presentan el desafío de que son actualizados constantemente, por lo que su url es variable. Se debe pensar en como solucionar este problema.\n",
    "\n",
    "- Datos de educación: Obtenidos desde la página de datos abiertos del [MINEDUC](http://datosabiertos.mineduc.cl/). Estos presentan el desafío de que su formato es en .rar, formato que es dificil de abordar desde la automatización, pues WinRar es un producto de licencia y no open-source.\n",
    "\n",
    "- Datos de cartografía censal: Obtenidos desde la página del [censo](http://www.censo2017.cl/servicio-de-mapas/). Presenta el mismo problema: vienen en formato .rar.\n"
   ]
  },
  {
   "cell_type": "markdown",
   "id": "fff669e9-b283-490b-9e4d-dff95043fd60",
   "metadata": {},
   "source": [
    "## Tratamiento de los datos.\n",
    "\n",
    "### Modelo de exposición. \n",
    "\n",
    "Los modelos de exposición se encuentran en formato .txt, y deben ser transformados a un formato adecuado para el trabajo de datos geoespaciales. Esto se realiza a través de pandas y los métodos implementados en geopandas, que nos permiten obtener la geometría directamente desde un dataset."
   ]
  },
  {
   "cell_type": "code",
   "execution_count": null,
   "id": "ca45e647-1b6a-4aaf-a004-562a2ec2b181",
   "metadata": {},
   "outputs": [],
   "source": []
  }
 ],
 "metadata": {
  "kernelspec": {
   "display_name": "Python 3 (ipykernel)",
   "language": "python",
   "name": "python3"
  },
  "language_info": {
   "codemirror_mode": {
    "name": "ipython",
    "version": 3
   },
   "file_extension": ".py",
   "mimetype": "text/x-python",
   "name": "python",
   "nbconvert_exporter": "python",
   "pygments_lexer": "ipython3",
   "version": "3.9.7"
  }
 },
 "nbformat": 4,
 "nbformat_minor": 5
}
